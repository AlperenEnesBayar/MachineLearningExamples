{
  "nbformat": 4,
  "nbformat_minor": 0,
  "metadata": {
    "colab": {
      "name": "gymExamplesFrozenLake.ipynb",
      "provenance": [],
      "collapsed_sections": [],
      "authorship_tag": "ABX9TyPRn8X12sYxQRH1iI/rvsex",
      "include_colab_link": true
    },
    "kernelspec": {
      "name": "python3",
      "display_name": "Python 3"
    }
  },
  "cells": [
    {
      "cell_type": "markdown",
      "metadata": {
        "id": "view-in-github",
        "colab_type": "text"
      },
      "source": [
        "<a href=\"https://colab.research.google.com/github/KaptanKaraSakal/MachineLearningExamples/blob/master/gymExamplesFrozenLake.ipynb\" target=\"_parent\"><img src=\"https://colab.research.google.com/assets/colab-badge.svg\" alt=\"Open In Colab\"/></a>"
      ]
    },
    {
      "cell_type": "markdown",
      "metadata": {
        "id": "6cprfvum5lyb"
      },
      "source": [
        " Winter is here. You and your friends were tossing around a frisbee at the\n",
        "    park when you made a wild throw that left the frisbee out in the middle of\n",
        "    the lake. The water is mostly frozen, but there are a few holes where the\n",
        "    ice has melted. If you step into one of those holes, you'll fall into the\n",
        "    freezing water. At this time, there's an international frisbee shortage, so\n",
        "    it's absolutely imperative that you navigate across the lake and retrieve\n",
        "    the disc. However, the ice is slippery, so you won't always move in the\n",
        "    direction you intend.\n",
        "    The surface is described using a grid like the following\n",
        "        SFFF\n",
        "        FHFH\n",
        "        FFFH\n",
        "        HFFG\n",
        "    S : starting point, safe\n",
        "    F : frozen surface, safe\n",
        "    H : hole, fall to your doom\n",
        "    G : goal, where the frisbee is located\n",
        "    The episode ends when you reach the goal or fall in a hole.\n",
        "    You receive a reward of 1 if you reach the goal, and zero otherwise.\n",
        "    \"\"\""
      ]
    },
    {
      "cell_type": "code",
      "metadata": {
        "id": "Qwo8plY25P2w"
      },
      "source": [
        "import gym\n",
        "import time\n",
        "import numpy as np\n",
        "import random\n",
        "import matplotlib.pyplot as plt"
      ],
      "execution_count": null,
      "outputs": []
    },
    {
      "cell_type": "markdown",
      "metadata": {
        "id": "qKQOm8tQ5eHx"
      },
      "source": [
        "SFFF       (S: starting point, safe)\n",
        "FHFH       (F: frozen surface, safe)\n",
        "FFFH       (H: hole, fall to your doom)\n",
        "HFFG       (G: goal, where the frisbee is located)"
      ]
    },
    {
      "cell_type": "code",
      "metadata": {
        "id": "h-_sVQVH5UmE",
        "outputId": "71ffbea9-ff82-4377-8efe-391121319a26",
        "colab": {
          "base_uri": "https://localhost:8080/",
          "height": 102
        }
      },
      "source": [
        "env = gym.make(\"FrozenLake-v0\",  is_slippery=False).env\n",
        "env.render()"
      ],
      "execution_count": null,
      "outputs": [
        {
          "output_type": "stream",
          "text": [
            "\n",
            "\u001b[41mS\u001b[0mFFF\n",
            "FHFH\n",
            "FFFH\n",
            "HFFG\n"
          ],
          "name": "stdout"
        }
      ]
    },
    {
      "cell_type": "markdown",
      "metadata": {
        "id": "S2Fai2YF7KoS"
      },
      "source": [
        "* LEFT = 0\n",
        "* DOWN = 1\n",
        "* RIGHT = 2\n",
        "* UP = 3"
      ]
    },
    {
      "cell_type": "code",
      "metadata": {
        "id": "npqy2FFN56ID",
        "outputId": "54343790-3770-4910-d7f1-3f55925e3ea8",
        "colab": {
          "base_uri": "https://localhost:8080/",
          "height": 34
        }
      },
      "source": [
        "#Q Table\n",
        "no_state = env.observation_space.n\n",
        "no_action = env.action_space.n\n",
        "\n",
        "print(\"State: {}, Action: {}\".format(no_state, no_action))\n",
        "\n",
        "q_table = np.zeros([no_state, no_action])"
      ],
      "execution_count": null,
      "outputs": [
        {
          "output_type": "stream",
          "text": [
            "State: 16, Action: 4\n"
          ],
          "name": "stdout"
        }
      ]
    },
    {
      "cell_type": "code",
      "metadata": {
        "id": "lrc4KubS6KJi"
      },
      "source": [
        "#Hyper Parameter\n",
        "episode_number = 2000\n",
        "alpha = 0.1 #learning rate\n",
        "gama = 0.9 #discount rate\n",
        "epsilon = 0.1 #%10 random %90 exploit"
      ],
      "execution_count": null,
      "outputs": []
    },
    {
      "cell_type": "code",
      "metadata": {
        "id": "qRw7Xher6LYj"
      },
      "source": [
        "#Plotting Metrics\n",
        "reward_list =  []"
      ],
      "execution_count": null,
      "outputs": []
    },
    {
      "cell_type": "code",
      "metadata": {
        "id": "sxE_SKcb6M5B"
      },
      "source": [
        "for i in range(1,episode_number):\n",
        "  state = env.reset()\n",
        "  current_reward = 0\n",
        "  while True:\n",
        "    #exploit or explore (choose action)\n",
        "    if random.uniform(0,1) < epsilon:\n",
        "      action = env.action_space.sample()\n",
        "    else:\n",
        "      action = np.argmax(q_table[state])\n",
        "    \n",
        "    #perform action (and get reward)\n",
        "    next_state, reward, done, _ = env.step(action)\n",
        "\n",
        "    #q learnig function\n",
        "    old_value = q_table[state, action]\n",
        "    next_max = np.max(q_table[next_state])\n",
        "\n",
        "    next_value = (1-alpha) * old_value + alpha * (reward + gama * next_max)\n",
        "\n",
        "    #q table update\n",
        "    q_table[state, action] = next_value\n",
        "\n",
        "    #state update\n",
        "    state = next_state\n",
        "    if done:\n",
        "      break\n",
        "    \n",
        "  current_reward += reward\n",
        "  reward_list.append(current_reward)\n",
        "  #print(\"Episode: {}\\nReward: {}\\n\".format(i,current_reward))"
      ],
      "execution_count": null,
      "outputs": []
    },
    {
      "cell_type": "code",
      "metadata": {
        "id": "4a4_PoHT_coP",
        "outputId": "ba27b7c9-f5bb-418c-b3eb-7fb9a5a671e3",
        "colab": {
          "base_uri": "https://localhost:8080/",
          "height": 279
        }
      },
      "source": [
        "fail = 0\n",
        "success = 0\n",
        "\n",
        "for i in reward_list:\n",
        "  if i == 0:\n",
        "    fail += 1\n",
        "  else:\n",
        "    success += 1\n",
        "\n",
        "objects = ('Fail', 'Success')\n",
        "y_pos = np.arange(len(objects))\n",
        "performance = [fail, success]\n",
        "\n",
        "\n",
        "\n",
        "#visualize\n",
        "fig, axs = plt.subplots(1,2)\n",
        "axs[0].plot(reward_list)\n",
        "axs[0].set_xlabel(\"episode\")\n",
        "axs[0].set_ylabel(\"reward\")\n",
        "axs[0].grid(True)\n",
        "plt.bar(y_pos, performance, align='center', alpha=1)\n",
        "plt.xticks(y_pos, objects)\n",
        "axs[1].grid(True)"
      ],
      "execution_count": null,
      "outputs": [
        {
          "output_type": "display_data",
          "data": {
            "image/png": "[encoded data removed]",
            "text/plain": [
              "<Figure size 432x288 with 2 Axes>"
            ]
          },
          "metadata": {
            "tags": [],
            "needs_background": "light"
          }
        }
      ]
    }
  ]
}