{
  "nbformat": 4,
  "nbformat_minor": 0,
  "metadata": {
    "colab": {
      "name": "gymExamplesTaxi.ipynb",
      "provenance": [],
      "collapsed_sections": [],
      "authorship_tag": "ABX9TyNSHylJY+aDaCj3ZR3i8wfs",
      "include_colab_link": true
    },
    "kernelspec": {
      "name": "python3",
      "display_name": "Python 3"
    }
  },
  "cells": [
    {
      "cell_type": "markdown",
      "metadata": {
        "id": "view-in-github",
        "colab_type": "text"
      },
      "source": [
        "<a href=\"https://colab.research.google.com/github/KaptanKaraSakal/MachineLearningExamples/blob/master/gymExamplesTaxi.ipynb\" target=\"_parent\"><img src=\"https://colab.research.google.com/assets/colab-badge.svg\" alt=\"Open In Colab\"/></a>"
      ]
    },
    {
      "cell_type": "markdown",
      "metadata": {
        "id": "pC6iym0ERycG"
      },
      "source": [
        "# Gym Taxi\n",
        "\n",
        "\n",
        "*   5x5  = 25 Cell\n",
        "*   RGYB locations for pick up and drop up passengers\n",
        "\n",
        "# Rewards\n",
        "*   Positive reward for a successful dropoff (+20)\n",
        "*   Negative reward for a wrong dropoff (-10)\n",
        "*   Slight negative reward every time-step (-1)\n",
        "*   Each successful dropoff is the end of an episode\n",
        "\n"
      ]
    },
    {
      "cell_type": "code",
      "metadata": {
        "id": "TL71BuhFR4Nl"
      },
      "source": [
        "import gym\n",
        "import time\n",
        "import numpy as np\n",
        "import random\n",
        "import matplotlib.pyplot as plt"
      ],
      "execution_count": null,
      "outputs": []
    },
    {
      "cell_type": "code",
      "metadata": {
        "id": "EfBTEOD-USS1",
        "outputId": "e485b991-d297-49ce-f8ce-d269d31ffcb2",
        "colab": {
          "base_uri": "https://localhost:8080/",
          "height": 153
        }
      },
      "source": [
        "env = gym.make(\"Taxi-v3\").env\n",
        "env.render()"
      ],
      "execution_count": null,
      "outputs": [
        {
          "output_type": "stream",
          "text": [
            "+---------+\n",
            "|\u001b[35mR\u001b[0m: | : :G|\n",
            "| : | : : |\n",
            "| : : : : |\n",
            "|\u001b[43m \u001b[0m| : | : |\n",
            "|Y| : |\u001b[34;1mB\u001b[0m: |\n",
            "+---------+\n",
            "\n"
          ],
          "name": "stdout"
        }
      ]
    },
    {
      "cell_type": "markdown",
      "metadata": {
        "id": "sfVjmg1nUua8"
      },
      "source": [
        "#    Passenger locations:\n",
        "* 0: R(ed)\n",
        "* 1: G(reen)\n",
        "* 2: Y(ellow)\n",
        "* 3: B(lue)\n",
        "* 4: in taxi\n",
        "    \n",
        "#    Destinations:\n",
        "* 0: R(ed)\n",
        "* 1: G(reen)\n",
        "* 2: Y(ellow)\n",
        "* 3: B(lue)\n",
        "        \n",
        "#    Actions:\n",
        "There are 6 discrete deterministic actions:\n",
        "* 0: move south\n",
        "* 1: move north\n",
        "* 2: move east \n",
        "* 3: move west \n",
        "* 4: pickup passenger\n",
        "* 5: dropoff passenger"
      ]
    },
    {
      "cell_type": "code",
      "metadata": {
        "id": "5QTH7otMZlTQ"
      },
      "source": [
        "#Q Table\n",
        "no_state = env.observation_space.n\n",
        "no_action = env.action_space.n\n",
        "\n",
        "q_table = np.zeros([no_state, no_action])"
      ],
      "execution_count": null,
      "outputs": []
    },
    {
      "cell_type": "code",
      "metadata": {
        "id": "q1BRM5HtZpV3"
      },
      "source": [
        "#Hyper Parameter\n",
        "episode_number = 2000\n",
        "alpha = 0.1 #learning rate\n",
        "gama = 0.9 #discount rate\n",
        "epsilon = 0.1 #%10 random %90 exploit"
      ],
      "execution_count": null,
      "outputs": []
    },
    {
      "cell_type": "code",
      "metadata": {
        "id": "kilbusU-Zwlg"
      },
      "source": [
        "#Plotting Metrics\n",
        "reward_list =  []\n",
        "dropouts = []"
      ],
      "execution_count": null,
      "outputs": []
    },
    {
      "cell_type": "code",
      "metadata": {
        "id": "3LrLkhBQW-Fl"
      },
      "source": [
        "for i in range(1,episode_number):\n",
        "  state = env.reset()\n",
        " \n",
        "  current_reward = 0\n",
        "  current_dropout = 0\n",
        "\n",
        "  while True:\n",
        "    #exploit or explore (choose action)\n",
        "    if random.uniform(0,1) < epsilon:\n",
        "      action = env.action_space.sample()\n",
        "    else:\n",
        "      action = np.argmax(q_table[state])\n",
        "    \n",
        "    #perform action (and get reward)\n",
        "    next_state, reward, done, _ = env.step(action)\n",
        "\n",
        "    #q learnig function\n",
        "    old_value = q_table[state, action]\n",
        "    next_max = np.max(q_table[next_state])\n",
        "\n",
        "    next_value = (1-alpha) * old_value + alpha * (reward + gama * next_max)\n",
        "\n",
        "    #q table update\n",
        "    q_table[state, action] = next_value\n",
        "\n",
        "    #state update\n",
        "    state = next_state\n",
        "\n",
        "    #find wrong dropouts\n",
        "    if reward == -10:\n",
        "      current_dropout += 1\n",
        "\n",
        "    if done:\n",
        "      break\n",
        "    \n",
        "    current_reward += reward\n",
        "  \n",
        "  if i % 10 == 0:\n",
        "    dropouts.append(current_dropout)\n",
        "    reward_list.append(current_reward)\n",
        "    print(\"Episode: {}\\nReward: {}\\nWrong Dropouts: {}\\n\".format(i,current_reward, current_dropout))"
      ],
      "execution_count": null,
      "outputs": []
    },
    {
      "cell_type": "code",
      "metadata": {
        "id": "aT90AkqUZBNn",
        "outputId": "488b3b2c-b4c7-4dac-eccc-6349b2ac91a8",
        "colab": {
          "base_uri": "https://localhost:8080/",
          "height": 279
        }
      },
      "source": [
        "#visualize\n",
        "fig, axs = plt.subplots(1,2)\n",
        "axs[0].plot(reward_list)\n",
        "axs[0].set_xlabel(\"episode\")\n",
        "axs[0].set_ylabel(\"reward\")\n",
        "axs[0].grid(True)\n",
        "\n",
        "axs[1].plot(dropouts)\n",
        "axs[1].set_xlabel(\"episode\")\n",
        "axs[1].set_ylabel(\"reward\")\n",
        "axs[1].grid(True)\n",
        "\n",
        "plt.show()"
      ],
      "execution_count": null,
      "outputs": [
        {
          "output_type": "display_data",
          "data": {
            "image/png": "[encoded data removed]",
            "text/plain": [
              "<Figure size 432x288 with 2 Axes>"
            ]
          },
          "metadata": {
            "tags": [],
            "needs_background": "light"
          }
        }
      ]
    }
  ]
}